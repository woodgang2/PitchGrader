{
 "cells": [
  {
   "cell_type": "code",
   "execution_count": 14,
   "id": "initial_id",
   "metadata": {
    "collapsed": true,
    "ExecuteTime": {
     "end_time": "2024-05-31T23:17:02.840627Z",
     "start_time": "2024-05-31T23:17:02.197614Z"
    }
   },
   "outputs": [],
   "source": [
    "import pandas as pd\n",
    "import json\n",
    "import requests\n",
    "from pybaseball import amateur_draft\n",
    "# pd.set_option(\"display.max_columns\",100)"
   ]
  },
  {
   "cell_type": "code",
   "execution_count": 46,
   "outputs": [],
   "source": [
    "def load_draft_results (start_year, end_year):\n",
    "    global_df = pd.DataFrame()\n",
    "    for year in range(start_year, end_year+1):\n",
    "        for round_num in range(1, 21):\n",
    "            print (f'getting round {round_num}')\n",
    "            draft_results = amateur_draft(year, round_num)\n",
    "            draft_results['Round'] = round_num\n",
    "            draft_results['Pick']  = draft_results.index\n",
    "            # print (draft_results)\n",
    "            draft_results.index = [f\"{year}-{pick}\" for pick in draft_results['OvPck']]\n",
    "            global_df = pd.concat([global_df, draft_results])\n",
    "    return global_df"
   ],
   "metadata": {
    "collapsed": false,
    "ExecuteTime": {
     "end_time": "2024-05-31T23:49:44.095906Z",
     "start_time": "2024-05-31T23:49:44.089532Z"
    }
   },
   "id": "65b8f91ca1d15236"
  },
  {
   "cell_type": "code",
   "execution_count": 47,
   "outputs": [
    {
     "name": "stdout",
     "output_type": "stream",
     "text": [
      "getting round 1\n",
      "getting round 2\n",
      "getting round 3\n",
      "getting round 4\n",
      "getting round 5\n",
      "getting round 6\n",
      "getting round 7\n",
      "getting round 8\n",
      "getting round 9\n",
      "getting round 10\n",
      "getting round 11\n",
      "getting round 12\n",
      "getting round 13\n",
      "getting round 14\n",
      "getting round 15\n",
      "getting round 16\n",
      "getting round 17\n",
      "getting round 18\n",
      "getting round 19\n",
      "getting round 20\n",
      "          OvPck         Tm Signed       Bonus                Name  Pos  WAR   \n",
      "2023-1        1    Pirates      Y  $9,200,000        Paul Skenes     P  0.8  \\\n",
      "2023-2        2  Nationals      Y  $9,000,000        Dylan Crews    OF  NaN   \n",
      "2023-3        3     Tigers      Y  $7,697,500          Max Clark    OF  NaN   \n",
      "2023-4        4    Rangers      Y  $8,000,000     Wyatt Langford    OF  0.0   \n",
      "2023-5        5      Twins      Y  $7,144,200     Walker Jenkins    OF  NaN   \n",
      "...         ...        ...    ...         ...                 ...  ...  ...   \n",
      "2023-610    610    Dodgers    NaN         NaN    D.J. Uiagalelei   TWP  NaN   \n",
      "2023-611    611     Padres      Y    $150,000          B.Y. Choi    SS  NaN   \n",
      "2023-612    612    Yankees      Y    $150,000    Bryce Warrecker     P  NaN   \n",
      "2023-613    613   Phillies      Y    $100,000     Pierce Bennett    2B  NaN   \n",
      "2023-614    614     Astros      Y    $150,000  Pascanel Ferreras    SS  NaN   \n",
      "\n",
      "             G     AB   HR     BA    OPS  G.1    W    L   ERA  WHIP   SV Type   \n",
      "2023-1     0.0    0.0  NaN    NaN    NaN  4.0  2.0  0.0  2.45  0.91  0.0  4Yr  \\\n",
      "2023-2     NaN    NaN  NaN    NaN    NaN  NaN  NaN  NaN   NaN   NaN  NaN  4Yr   \n",
      "2023-3     NaN    NaN  NaN    NaN    NaN  NaN  NaN  NaN   NaN   NaN  NaN   HS   \n",
      "2023-4    33.0  123.0  1.0  0.228  0.587  NaN  NaN  NaN   NaN   NaN  NaN  4Yr   \n",
      "2023-5     NaN    NaN  NaN    NaN    NaN  NaN  NaN  NaN   NaN   NaN  NaN   HS   \n",
      "...        ...    ...  ...    ...    ...  ...  ...  ...   ...   ...  ...  ...   \n",
      "2023-610   NaN    NaN  NaN    NaN    NaN  NaN  NaN  NaN   NaN   NaN  NaN  4Yr   \n",
      "2023-611   NaN    NaN  NaN    NaN    NaN  NaN  NaN  NaN   NaN   NaN  NaN   JC   \n",
      "2023-612   NaN    NaN  NaN    NaN    NaN  NaN  NaN  NaN   NaN   NaN  NaN  4Yr   \n",
      "2023-613   NaN    NaN  NaN    NaN    NaN  NaN  NaN  NaN   NaN   NaN  NaN  4Yr   \n",
      "2023-614   NaN    NaN  NaN    NaN    NaN  NaN  NaN  NaN   NaN   NaN  NaN  4Yr   \n",
      "\n",
      "                                             Drafted Out of  Round  Pick  \n",
      "2023-1         Louisiana State University (Baton Rouge, LA)      1     0  \n",
      "2023-2         Louisiana State University (Baton Rouge, LA)      1     1  \n",
      "2023-3                 Franklin Community HS (Franklin, IN)      1     2  \n",
      "2023-4              University of Florida (Gainesville, FL)      1     3  \n",
      "2023-5                   South Brunswick HS (Southport, NC)      1     4  \n",
      "...                                                     ...    ...   ...  \n",
      "2023-610            Oregon State University (Corvallis, OR)     20    25  \n",
      "2023-611        New Mexico Military Institute (Roswell, NM)     20    26  \n",
      "2023-612  California Polytechnic State University, San L...     20    27  \n",
      "2023-613         Wake Forest University (Winston-Salem, NC)     20    28  \n",
      "2023-614        Western Carolina University (Cullowhee, NC)     20    29  \n",
      "\n",
      "[614 rows x 22 columns]\n"
     ]
    }
   ],
   "source": [
    "# draftResults = amateur_draft(2023, 2)\n",
    "df = load_draft_results(start_year=2023, end_year=2023)\n",
    "print (df)"
   ],
   "metadata": {
    "collapsed": false,
    "ExecuteTime": {
     "end_time": "2024-05-31T23:51:39.905212Z",
     "start_time": "2024-05-31T23:49:45.061449Z"
    }
   },
   "id": "861287680e096fb1"
  },
  {
   "cell_type": "code",
   "execution_count": 48,
   "outputs": [
    {
     "data": {
      "text/plain": "614"
     },
     "execution_count": 48,
     "metadata": {},
     "output_type": "execute_result"
    }
   ],
   "source": [
    "from sqlalchemy import create_engine\n",
    "\n",
    "engine = create_engine('sqlite:///Data/draft_data.db')\n",
    "df.to_sql('draft_results', con=engine, if_exists='replace', index=True)\n"
   ],
   "metadata": {
    "collapsed": false,
    "ExecuteTime": {
     "end_time": "2024-05-31T23:52:24.859649Z",
     "start_time": "2024-05-31T23:52:24.832234Z"
    }
   },
   "id": "6d3b1d95c0860993"
  }
 ],
 "metadata": {
  "kernelspec": {
   "display_name": "Python 3",
   "language": "python",
   "name": "python3"
  },
  "language_info": {
   "codemirror_mode": {
    "name": "ipython",
    "version": 2
   },
   "file_extension": ".py",
   "mimetype": "text/x-python",
   "name": "python",
   "nbconvert_exporter": "python",
   "pygments_lexer": "ipython2",
   "version": "2.7.6"
  }
 },
 "nbformat": 4,
 "nbformat_minor": 5
}
